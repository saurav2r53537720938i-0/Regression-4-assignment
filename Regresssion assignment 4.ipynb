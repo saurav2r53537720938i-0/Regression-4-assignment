{
 "cells": [
  {
   "cell_type": "markdown",
   "id": "b23374cc-a7c5-4f04-99c7-f791281bc318",
   "metadata": {},
   "source": [
    "Lasso regularlization also know as L1 regularization is a technique used in machine learning and statictics to prvent overfitting by adding a penalty term to the loss function.This penalty term is absolute sum of the cofficent \n",
    "of the feature multiplied by a regularization parameter.The key diffrence between lasso regularization and other regularization technique like ridge regularization lies in the penalty term.While lasso uses absolute sum of cofficent Ridge regularization used the squared sum of the cofficent"
   ]
  },
  {
   "cell_type": "markdown",
   "id": "979867e6-b57b-4390-8231-f2763dd90a4e",
   "metadata": {},
   "source": [
    "The main advantage of using Lasso regression in feature slection is its ablity to automatically perform variable  slection by shrnking the cofficent of less important feature to zero.This results in a sparse model where only the mostt relvent feature are retained making the model simpler and potentially more interpretable addtionaly by reducing the number of feature ,lasso regularization can help mitigate the risk of overfitting and improve the genrlaisation performance of the model"
   ]
  },
  {
   "cell_type": "markdown",
   "id": "b13ecc6d-043f-497d-bc0f-f4f5e61475db",
   "metadata": {},
   "source": [
    "Interpreting the cofficent of a lasso regression model involves understanding the impact of each feature on the target variable .Since lasso regularization shrink cofficent to zero ,resulting in sparse models,the interpretion of cofficent can be straightforwar:\n",
    "1. Non zero cofficent\n",
    "2. Zero cofficent"
   ]
  },
  {
   "cell_type": "markdown",
   "id": "afe4c319-6b00-4999-b0d8-3b799e604df9",
   "metadata": {},
   "source": [
    "In lasso regression there is typically one main tunning parmeter:\n",
    "1. Alpha:Alpha controls the strenghth of the regularization penalty applied in lasso regression it a nonnegative hyperparmeter where higher value of alpha result in more agressive shrinkage of remain non-zero,potentialy leading \n",
    "to a more complex conversly a higher alpha encourage sparsity"
   ]
  },
  {
   "cell_type": "markdown",
   "id": "a3d4a506-74d1-4015-bda0-f993cb8cd11f",
   "metadata": {},
   "source": [
    "Yes, Lasso regression can be used for non-linear regression problem although it is primilarly designed task however \n",
    "to apply lassoo regression to non-linear problmbs you can use basic fumction expansion or feature engineering\n",
    "1. Basic function expansion\n",
    "2. Feature Engineering"
   ]
  },
  {
   "cell_type": "markdown",
   "id": "3f6c3de3-62dd-41e0-ad20-a8cd6fd04ab0",
   "metadata": {},
   "source": [
    "Ridge regression and Lasso regression are both regularization techinque used to prvent overliftting in linear regression model.\n",
    "1. Ridge Regression (L2) add a penlaty term to the loss fuunction proptinal to cofficent it shrinks the cofficent toward zero,but they rarely become exactly zero\n",
    "2. Lasso Regression (L1)adds a penalty term to the loss function propportinal to the a"
   ]
  }
 ],
 "metadata": {
  "kernelspec": {
   "display_name": "Python 3 (ipykernel)",
   "language": "python",
   "name": "python3"
  },
  "language_info": {
   "codemirror_mode": {
    "name": "ipython",
    "version": 3
   },
   "file_extension": ".py",
   "mimetype": "text/x-python",
   "name": "python",
   "nbconvert_exporter": "python",
   "pygments_lexer": "ipython3",
   "version": "3.10.8"
  }
 },
 "nbformat": 4,
 "nbformat_minor": 5
}
